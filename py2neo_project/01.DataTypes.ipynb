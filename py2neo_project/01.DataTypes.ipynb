{
 "cells": [
  {
   "cell_type": "markdown",
   "id": "a690a20a",
   "metadata": {},
   "source": [
    "[toturial](https://py2neo.org/v5/index.html)"
   ]
  },
  {
   "cell_type": "markdown",
   "id": "fff71e40",
   "metadata": {},
   "source": [
    "## 1. Node and Relationship objects\n",
    "two essential building blocks: Node & Relationship.\n",
    "- Node \\\n",
    "contain a set of key-value pairs(properties) and optionally be adorned with one or more textual labels.\n",
    "- Relationship \\\n",
    "a typed, directed connection between a pair of nodes. relationships may also contain a set of properities.\n"
   ]
  },
  {
   "cell_type": "code",
   "execution_count": 3,
   "id": "13cdb603",
   "metadata": {},
   "outputs": [],
   "source": [
    "from py2neo.data import Node, Relationship"
   ]
  },
  {
   "cell_type": "code",
   "execution_count": 6,
   "id": "65c71754",
   "metadata": {},
   "outputs": [
    {
     "name": "stdout",
     "output_type": "stream",
     "text": [
      "(:Person {gender: 'female', name: 'Alice'})\n",
      "(:Person {gender: 'male', name: 'Bob'})\n",
      "(Alice)-[:KNOWS {degree: 60}]->(Bob)\n"
     ]
    }
   ],
   "source": [
    "a = Node(\"Person\", name=\"Alice\", gender=\"female\")\n",
    "b = Node(\"Person\", name=\"Bob\", gender=\"male\")\n",
    "ab = Relationship(a, \"KNOWS\", b, degree=60)\n",
    "print(a)\n",
    "print(b)\n",
    "print(ab)"
   ]
  },
  {
   "cell_type": "code",
   "execution_count": 10,
   "id": "c300d2e5",
   "metadata": {},
   "outputs": [
    {
     "data": {
      "text/plain": [
       "(False, True)"
      ]
     },
     "execution_count": 10,
     "metadata": {},
     "output_type": "execute_result"
    }
   ],
   "source": [
    "# equality based on the ID\n",
    "a == b, a != b"
   ]
  },
  {
   "cell_type": "code",
   "execution_count": 14,
   "id": "c56ff460",
   "metadata": {},
   "outputs": [
    {
     "data": {
      "text/plain": [
       "(140458470022896, 140458470004272)"
      ]
     },
     "execution_count": 14,
     "metadata": {},
     "output_type": "execute_result"
    }
   ],
   "source": [
    "# a hash of node based on its object ID\n",
    "hash(a), hash(b)"
   ]
  },
  {
   "cell_type": "code",
   "execution_count": 20,
   "id": "098dd2b6",
   "metadata": {},
   "outputs": [
    {
     "name": "stdout",
     "output_type": "stream",
     "text": [
      "18\n"
     ]
    }
   ],
   "source": [
    "# check & set property\n",
    "a[\"age\"] = 18\n",
    "print(a[\"age\"])"
   ]
  },
  {
   "cell_type": "code",
   "execution_count": 21,
   "id": "596ee52b",
   "metadata": {},
   "outputs": [
    {
     "name": "stdout",
     "output_type": "stream",
     "text": [
      "(:Person {gender: 'female', name: 'Alice'})\n"
     ]
    }
   ],
   "source": [
    "# remove the property\n",
    "del a[\"age\"]\n",
    "print(a)"
   ]
  },
  {
   "cell_type": "code",
   "execution_count": 23,
   "id": "4d55ba88",
   "metadata": {},
   "outputs": [
    {
     "name": "stdout",
     "output_type": "stream",
     "text": [
      "2\n"
     ]
    }
   ],
   "source": [
    "# the number of properties in node\n",
    "print(len(a))"
   ]
  },
  {
   "cell_type": "code",
   "execution_count": 24,
   "id": "fe7297b2",
   "metadata": {},
   "outputs": [
    {
     "name": "stdout",
     "output_type": "stream",
     "text": [
      "{'name': 'Alice', 'gender': 'female'}\n"
     ]
    }
   ],
   "source": [
    "# a dictionary of all the properties in node\n",
    "print(dict(a))"
   ]
  },
  {
   "cell_type": "code",
   "execution_count": 25,
   "id": "bbc407c5",
   "metadata": {},
   "outputs": [
    {
     "name": "stdout",
     "output_type": "stream",
     "text": [
      ":Person\n"
     ]
    }
   ],
   "source": [
    "# list labels associated with node\n",
    "print(a.labels)"
   ]
  },
  {
   "cell_type": "code",
   "execution_count": 26,
   "id": "58af8a45",
   "metadata": {},
   "outputs": [],
   "source": [
    "# add a label\n",
    "a.add_label(\"Student\")"
   ]
  },
  {
   "cell_type": "code",
   "execution_count": 27,
   "id": "16daf21e",
   "metadata": {},
   "outputs": [
    {
     "name": "stdout",
     "output_type": "stream",
     "text": [
      "True\n"
     ]
    }
   ],
   "source": [
    "# check a label\n",
    "print(a.has_label(\"Student\"))"
   ]
  },
  {
   "cell_type": "code",
   "execution_count": 30,
   "id": "d27082e7",
   "metadata": {},
   "outputs": [
    {
     "name": "stdout",
     "output_type": "stream",
     "text": [
      ":Person\n"
     ]
    }
   ],
   "source": [
    "# remove a label\n",
    "a.remove_label(\"Student\")\n",
    "print(a.labels)"
   ]
  },
  {
   "cell_type": "code",
   "execution_count": 31,
   "id": "a23d2884",
   "metadata": {},
   "outputs": [
    {
     "name": "stdout",
     "output_type": "stream",
     "text": [
      "\n"
     ]
    }
   ],
   "source": [
    "# remove all labels\n",
    "a.clear_labels()\n",
    "print(a.labels)"
   ]
  },
  {
   "cell_type": "code",
   "execution_count": 32,
   "id": "faca3362",
   "metadata": {},
   "outputs": [
    {
     "name": "stdout",
     "output_type": "stream",
     "text": [
      ":Person:Student\n"
     ]
    }
   ],
   "source": [
    "# add multiple labels to node from the iterable labels.\n",
    "a.update_labels([\"Person\", \"Student\"])\n",
    "print(a.labels)"
   ]
  },
  {
   "cell_type": "code",
   "execution_count": 33,
   "id": "910572a7",
   "metadata": {},
   "outputs": [],
   "source": [
    "# the remote graph to which node is bound, if any.\n",
    "a.graph"
   ]
  },
  {
   "cell_type": "code",
   "execution_count": 35,
   "id": "371f908f",
   "metadata": {},
   "outputs": [],
   "source": [
    "# the ID of the remote node to which node is bound, if any.\n",
    "a.identity"
   ]
  },
  {
   "cell_type": "code",
   "execution_count": 41,
   "id": "63c4eed5",
   "metadata": {},
   "outputs": [
    {
     "name": "stdout",
     "output_type": "stream",
     "text": [
      "<class 'py2neo.data.KNOWS'>\n"
     ]
    }
   ],
   "source": [
    "# return the type of this relationship\n",
    "print(type(ab))"
   ]
  },
  {
   "cell_type": "markdown",
   "id": "5f57cb03",
   "metadata": {},
   "source": [
    "## 2.Subgraph objects\n",
    "A Subgraph is an arbitrary collection of nodes and relationships."
   ]
  },
  {
   "cell_type": "code",
   "execution_count": 42,
   "id": "63df0983",
   "metadata": {},
   "outputs": [
    {
     "data": {
      "text/plain": [
       "py2neo.data.Relationship"
      ]
     },
     "execution_count": 42,
     "metadata": {},
     "output_type": "execute_result"
    }
   ],
   "source": [
    "c = Node(\"Person\", name=\"Carol\", gender=\"male\")\n",
    "ac = Relationship(a, c)\n",
    "type(ac)"
   ]
  },
  {
   "cell_type": "code",
   "execution_count": 44,
   "id": "d0694811",
   "metadata": {},
   "outputs": [
    {
     "name": "stdout",
     "output_type": "stream",
     "text": [
      "Subgraph({Node('Person', 'Student', gender='female', name='Alice'), Node('Person', gender='male', name='Bob'), Node('Person', gender='male', name='Carol')}, {Relationship(Node('Person', 'Student', gender='female', name='Alice'), Node('Person', gender='male', name='Carol')), KNOWS(Node('Person', 'Student', gender='female', name='Alice'), Node('Person', gender='male', name='Bob'), degree=60)})\n"
     ]
    }
   ],
   "source": [
    "s = ab | ac\n",
    "print(s)"
   ]
  },
  {
   "cell_type": "code",
   "execution_count": 46,
   "id": "6069dfe9",
   "metadata": {},
   "outputs": [
    {
     "name": "stdout",
     "output_type": "stream",
     "text": [
      "(:Person:Student {gender: 'female', name: 'Alice'})\n",
      "(:Person {gender: 'male', name: 'Bob'})\n",
      "(:Person {gender: 'male', name: 'Carol'})\n"
     ]
    }
   ],
   "source": [
    "for i in s.nodes:\n",
    "    print(i)"
   ]
  },
  {
   "cell_type": "code",
   "execution_count": 47,
   "id": "f33e5a22",
   "metadata": {},
   "outputs": [
    {
     "name": "stdout",
     "output_type": "stream",
     "text": [
      "(Alice)-[:Relationship {}]->(Carol)\n",
      "(Alice)-[:KNOWS {degree: 60}]->(Bob)\n"
     ]
    }
   ],
   "source": [
    "for i in s.relationships:\n",
    "    print(i)"
   ]
  },
  {
   "cell_type": "code",
   "execution_count": 48,
   "id": "ab1f2f2e",
   "metadata": {},
   "outputs": [
    {
     "data": {
      "text/plain": [
       "frozenset({'degree', 'gender', 'name'})"
      ]
     },
     "execution_count": 48,
     "metadata": {},
     "output_type": "execute_result"
    }
   ],
   "source": [
    "# return all property keys\n",
    "s.keys()"
   ]
  },
  {
   "cell_type": "code",
   "execution_count": 52,
   "id": "93c96b88",
   "metadata": {},
   "outputs": [
    {
     "data": {
      "text/plain": [
       "frozenset({'Person', 'Student'})"
      ]
     },
     "execution_count": 52,
     "metadata": {},
     "output_type": "execute_result"
    }
   ],
   "source": [
    "# return all node labels\n",
    "s.labels()"
   ]
  },
  {
   "cell_type": "code",
   "execution_count": 53,
   "id": "7d58f2c9",
   "metadata": {},
   "outputs": [
    {
     "data": {
      "text/plain": [
       "frozenset({'KNOWS', 'Relationship'})"
      ]
     },
     "execution_count": 53,
     "metadata": {},
     "output_type": "execute_result"
    }
   ],
   "source": [
    "# return all relationship types\n",
    "s.types()"
   ]
  },
  {
   "cell_type": "markdown",
   "id": "7b4d1a6d",
   "metadata": {},
   "source": [
    "- subgraph | other | ... \\\n",
    "Union.\n",
    "- subgraph & other & ... \\\n",
    "Intersection.\n",
    "- subgraph - other - ... \\\n",
    "Difference.\n",
    "- subgraph ^ other ^ ... \\\n",
    "Symmetric difference."
   ]
  },
  {
   "cell_type": "markdown",
   "id": "ea811763",
   "metadata": {},
   "source": [
    "## 3.Path objects and other Walkable types\n",
    "A walkable is a Subgraph with added traversal information."
   ]
  },
  {
   "cell_type": "code",
   "execution_count": 54,
   "id": "eb8dd86b",
   "metadata": {},
   "outputs": [
    {
     "name": "stdout",
     "output_type": "stream",
     "text": [
      "(Alice)-[:KNOWS {degree: 60}]->(Bob)-[:LIKES {}]->(Carol)-[:Relationship {}]->(Alice)\n"
     ]
    }
   ],
   "source": [
    "w = ab + Relationship(b, \"LIKES\", c) + ac\n",
    "print(w)"
   ]
  },
  {
   "cell_type": "code",
   "execution_count": 57,
   "id": "b9996942",
   "metadata": {},
   "outputs": [
    {
     "name": "stdout",
     "output_type": "stream",
     "text": [
      "(:Person:Student {gender: 'female', name: 'Alice'})\n",
      "(Alice)-[:KNOWS {degree: 60}]->(Bob)\n",
      "(:Person {gender: 'male', name: 'Bob'})\n",
      "(Bob)-[:LIKES {}]->(Carol)\n",
      "(:Person {gender: 'male', name: 'Carol'})\n",
      "(Alice)-[:Relationship {}]->(Carol)\n",
      "(:Person:Student {gender: 'female', name: 'Alice'})\n"
     ]
    }
   ],
   "source": [
    "# perform a walk() of walkable\n",
    "for i in walk(w):\n",
    "    print(i)"
   ]
  },
  {
   "cell_type": "code",
   "execution_count": 59,
   "id": "18fa0302",
   "metadata": {},
   "outputs": [
    {
     "data": {
      "text/plain": [
       "(Node('Person', 'Student', gender='female', name='Alice'),\n",
       " Node('Person', 'Student', gender='female', name='Alice'))"
      ]
     },
     "execution_count": 59,
     "metadata": {},
     "output_type": "execute_result"
    }
   ],
   "source": [
    "# the first node & the last node\n",
    "w.start_node, w.end_node"
   ]
  },
  {
   "cell_type": "code",
   "execution_count": 60,
   "id": "b3a47d30",
   "metadata": {},
   "outputs": [
    {
     "data": {
      "text/plain": [
       "(Node('Person', 'Student', gender='female', name='Alice'),\n",
       " Node('Person', gender='male', name='Bob'),\n",
       " Node('Person', gender='male', name='Carol'),\n",
       " Node('Person', 'Student', gender='female', name='Alice'))"
      ]
     },
     "execution_count": 60,
     "metadata": {},
     "output_type": "execute_result"
    }
   ],
   "source": [
    "# return all nodes\n",
    "w.nodes"
   ]
  },
  {
   "cell_type": "code",
   "execution_count": 61,
   "id": "b612ebc4",
   "metadata": {},
   "outputs": [
    {
     "data": {
      "text/plain": [
       "(KNOWS(Node('Person', 'Student', gender='female', name='Alice'), Node('Person', gender='male', name='Bob'), degree=60),\n",
       " LIKES(Node('Person', gender='male', name='Bob'), Node('Person', gender='male', name='Carol')),\n",
       " Relationship(Node('Person', 'Student', gender='female', name='Alice'), Node('Person', gender='male', name='Carol')))"
      ]
     },
     "execution_count": 61,
     "metadata": {},
     "output_type": "execute_result"
    }
   ],
   "source": [
    "# return all relationships\n",
    "w.relationships"
   ]
  },
  {
   "cell_type": "markdown",
   "id": "f8c9446d",
   "metadata": {},
   "source": [
    "## 4.Record objects\n",
    "A **Record** object holds an ordered, keyed collection of values."
   ]
  },
  {
   "cell_type": "markdown",
   "id": "40282ae0",
   "metadata": {},
   "source": [
    "## 5.Table objects\n",
    "A **Table** holds a list of **Record** objects, typically received as the result of a Cypher query."
   ]
  }
 ],
 "metadata": {
  "kernelspec": {
   "display_name": "Python 3 (ipykernel)",
   "language": "python",
   "name": "python3"
  },
  "language_info": {
   "codemirror_mode": {
    "name": "ipython",
    "version": 3
   },
   "file_extension": ".py",
   "mimetype": "text/x-python",
   "name": "python",
   "nbconvert_exporter": "python",
   "pygments_lexer": "ipython3",
   "version": "3.9.12"
  }
 },
 "nbformat": 4,
 "nbformat_minor": 5
}
