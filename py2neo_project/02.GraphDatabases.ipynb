{
 "cells": [
  {
   "cell_type": "markdown",
   "id": "9e394f03",
   "metadata": {},
   "source": [
    "## 1.The GraphService\n",
    "Accessor for an entire Neo4j graph database installation over Bolt or HTTP."
   ]
  },
  {
   "cell_type": "code",
   "execution_count": 2,
   "id": "efff2f39",
   "metadata": {},
   "outputs": [],
   "source": [
    "from py2neo import GraphService"
   ]
  },
  {
   "cell_type": "markdown",
   "id": "5af6fdf1",
   "metadata": {},
   "source": [
    "## 2.The Graph\n",
    "The **Graph** class represents the graph data storage space within a Neo4j graph database."
   ]
  },
  {
   "cell_type": "code",
   "execution_count": 5,
   "id": "eed6369c",
   "metadata": {},
   "outputs": [],
   "source": [
    "from py2neo import Graph"
   ]
  },
  {
   "cell_type": "code",
   "execution_count": 6,
   "id": "af6031de",
   "metadata": {},
   "outputs": [],
   "source": [
    "graph = Graph(\"bolt://localhost:7687\", auth=(\"neo4j\", \"test\"))"
   ]
  },
  {
   "cell_type": "markdown",
   "id": "0a6c9db0",
   "metadata": {},
   "source": [
    "- auto() \\\n",
    "begin a new auto-commit **GraphTransaction**\n",
    "- begin() \\\n",
    "Begin a new **GraphTransaction**\n",
    "- call(procedure) \\\n",
    "Call a procedure by name.\n",
    "- create(subgraph) \\\n",
    "Run a **GraphTransaction.create()** operation within a **GraphTransaction**.\n",
    "- delete(subgraph) \\\n",
    "Run a **GraphTransaction.delete()** operation within an autocommit **GraphTransaction**.\n",
    "- delete_all() \\\n",
    "Delete all nodes and relationships from this **Graph**.\n",
    "- evaluate(cypher, parameters=None) \\\n",
    "Run a **GraphTransaction.evaluate()** operation within an autocommit **GraphTransaction**.\n",
    "- exists(subgraph) \\\n",
    "Run a **GraphTransaction.exists()** operation within an autocommit **GraphTransaction**.\n",
    "- match() \\\n",
    "Match and return all relationships with specific criteria.\n",
    "- match_one() \\\n",
    "Match and return one relationship with specific criteria.\n",
    "- merge(subgraph, label=None) \\\n",
    "Run a **GraphTransaction.merge()** operation within an autocommit **GraphTransaction**.\n",
    "- play(work) \\\n",
    "Call a function representing a transactional unit of work.\n",
    "- pull(subgraph) \\\n",
    "Pull data to one or more entities from their remote counterparts.\n",
    "- push(subgraph) \\\n",
    "Push data from one or more entities to their remote counterparts.\n",
    "- run(cypher) \\\n",
    "Run a **GraphTransaction.run()** operation within an autocommit **GraphTransaction**.\n",
    "- separate(subgraph) \\\n",
    "Run a **GraphTransaction.separate()** operation within an autocommit **GraphTransaction**."
   ]
  },
  {
   "cell_type": "markdown",
   "id": "3876f61d",
   "metadata": {},
   "source": [
    "## 3.Transactions\n",
    "A logical context for one or more graph operations.\n",
    "- commit() \\\n",
    "Commit the transaction.\n",
    "- create(subgraph) \\\n",
    "Create remote nodes and relationships that correspond to those in a local subgraph.\n",
    "- delete(subgraph) \\\n",
    "Delete the remote nodes and relationships that correspond to those in a local subgraph.\n",
    "- evaluate(cypher) \\\n",
    "Execute a single Cypher statement and return the value from the first column of the first record.\n",
    "- exists(subgraph) \\\n",
    "Determine whether one or more entities all exist within the graph.\n",
    "- finished() \\\n",
    "Indicates whether or not this transaction has been completed or is still open.\n",
    "- merge(subgraph) \\\n",
    "Create or update the nodes and relationships of a local subgraph in the remote database.\n",
    "- pull(subgraph) \\\n",
    "Update local entitis from their remote counterparts.\n",
    "- push(subgraph) \\\n",
    "Update remote entities from their local counterparts.\n",
    "- rollback() \\\n",
    "Roll back the current transaction, undoing all actions previously taken.\n",
    "- run(cypher) \\\n",
    "Send a Cypher statement to the server for execution and return a Cursor for navigating its result.\n",
    "- separate(subgraph) \\\n",
    "Delete the remote relationships that correspond to those in a local subgraph."
   ]
  },
  {
   "cell_type": "markdown",
   "id": "433a5a86",
   "metadata": {},
   "source": [
    "## 4.Cypher Results\n",
    "A **Cursor** is a navigator for a stream of records.\n",
    "- close() \\\n",
    "Close this cursor and free up all associated resources.\n",
    "- data() \\\n",
    "Consume and extract the entire result as a list of dictionaries.\n",
    "- evaluate(field=0) \\\n",
    "Return the value of the first field from the next record.\n",
    "- forward(amount=1) \\\n",
    "Attempt to move the cursor one position forward.\n",
    "- keys() \\\n",
    "Return the field names for the records in the stream.\n",
    "- plan() \\\n",
    "Return the plan returned with this result, if any.\n",
    "- preview(limit=1) \\\n",
    "Construct a **Table** containing a preview of upcoming records, including no more than the given limit.\n",
    "- stats() \\\n",
    "Return the query statistics.\n",
    "- summary() \\\n",
    "Return the result summary.\n",
    "- to_data_frame(index=None, columns=None, dtype=None) \\\n",
    "Consume and extract the entire result as a **pandas.DataFrame**.\n",
    "- to_matrix(mutable=False) \\\n",
    "Consume and extract the entire result as a **sympy.Matrix**.\n",
    "- to_ndarray(dtype=None, order='k') \\\n",
    "Consume and extract the entire result as a **numpy.ndarray**.\n",
    "- to_series(field=0, index=None, dtype=None) \\\n",
    "Consume and extract one field of the entire result as a **pandas.Series**.\n",
    "- to_subgraph() \\\n",
    "Consume and extract the entire result as a **Subgraph** containing the union of all the graph structures within.\n",
    "- to_table() \\\n",
    "Consume and extract the entire result as a **Table** object."
   ]
  }
 ],
 "metadata": {
  "kernelspec": {
   "display_name": "Python 3 (ipykernel)",
   "language": "python",
   "name": "python3"
  },
  "language_info": {
   "codemirror_mode": {
    "name": "ipython",
    "version": 3
   },
   "file_extension": ".py",
   "mimetype": "text/x-python",
   "name": "python",
   "nbconvert_exporter": "python",
   "pygments_lexer": "ipython3",
   "version": "3.9.12"
  }
 },
 "nbformat": 4,
 "nbformat_minor": 5
}
